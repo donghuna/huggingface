{
  "nbformat": 4,
  "nbformat_minor": 0,
  "metadata": {
    "colab": {
      "private_outputs": true,
      "provenance": [],
      "authorship_tag": "ABX9TyMFboBGnYfilbtYim6WpGqg",
      "include_colab_link": true
    },
    "kernelspec": {
      "name": "python3",
      "display_name": "Python 3"
    },
    "language_info": {
      "name": "python"
    }
  },
  "cells": [
    {
      "cell_type": "markdown",
      "metadata": {
        "id": "view-in-github",
        "colab_type": "text"
      },
      "source": [
        "<a href=\"https://colab.research.google.com/github/donghuna/huggingface/blob/main/Untitled12.ipynb\" target=\"_parent\"><img src=\"https://colab.research.google.com/assets/colab-badge.svg\" alt=\"Open In Colab\"/></a>"
      ]
    },
    {
      "cell_type": "code",
      "source": [
        "!pip install transformers"
      ],
      "metadata": {
        "id": "9wKuv1v16jP7"
      },
      "execution_count": null,
      "outputs": []
    },
    {
      "cell_type": "code",
      "source": [
        "!pip install utils"
      ],
      "metadata": {
        "id": "Uqfnamub6vgF"
      },
      "execution_count": null,
      "outputs": []
    },
    {
      "cell_type": "code",
      "execution_count": null,
      "metadata": {
        "id": "3OT--a6NA_g5"
      },
      "outputs": [],
      "source": [
        "from transformers import pipeline\n",
        "import torch\n",
        "\n",
        "# Get the device (CPU, GPU, Apple M1/2 aka MPS)\n",
        "# Ignoring MPS because this particular model contains some int64 ops that are not supported by the MPS backend yet :(\n",
        "# see https://github.com/pytorch/pytorch/issues/80784\n",
        "# device = 'cuda'\n",
        "device = torch.device('cuda') if torch.cuda.is_available() else torch.device('cpu')\n",
        "\n",
        "# Define a model from hugging face hub: https://huggingface.co/models\n",
        "model = 'MoritzLaurer/mDeBERTa-v3-base-xnli-multilingual-nli-2mil7'\n",
        "\n",
        "# Example sentence to be classified\n",
        "test_txt = 'Eintracht Frankfurt gewinnt die Europa League nach 6:5-Erfolg im Elfmeterschießen gegen die Glasgow Rangers'\n",
        "\n",
        "# Define a german hypothesis template and the potential candidates for entailment/contradiction\n",
        "template_de = 'Das Thema ist {}'\n",
        "topics = ['Web', 'Panorama', 'International', 'Wirtschaft', 'Sport', 'Inland', 'Etat', 'Wissenschaft', 'Kultur']\n",
        "\n",
        "# Pipeline abstraction from hugging face\n",
        "pipe = pipeline(task='zero-shot-classification', model=model, tokenizer=model, device=device)\n",
        "\n",
        "# Run pipeline with a test case\n",
        "prediction = pipe(test_txt, topics, hypothesis_template=template_de)\n",
        "\n",
        "# Top 3 topics as predicted in zero-shot regime\n",
        "print(f'Zero-shot prediction for: \\n {prediction[\"sequence\"]}')\n",
        "top_3 = zip(prediction['labels'][0:3], prediction['scores'][0:3])\n",
        "for label, score in top_3:\n",
        "    print(f'{label} - {score:.2%}')\n",
        "\n",
        "\n",
        "# Some more examples?\n",
        "further_examples = ['Verbraucher halten sich wegen steigender Zinsen und Inflation beim Immobilienkauf zurück',\n",
        "                    '„Die bitteren Tränen der Petra von Kant“ von 1972 geschlechtsumgewandelt und neu verfilmt',\n",
        "                    'Eine 541 Millionen Jahre alte fossile Alge weist erstaunliche Ähnlichkeit zu noch heute existierenden Vertretern auf']\n",
        "\n",
        "for txt in further_examples:\n",
        "    prediction = pipe(txt, topics, hypothesis_template=template_de)\n",
        "    print(f'Zero-shot prediction for: \\n {prediction[\"sequence\"]}')\n",
        "    top_3 = zip(prediction['labels'][0:3], prediction['scores'][0:3])\n",
        "    for label, score in top_3:\n",
        "        print(f'{label} - {score:.2%}')"
      ]
    }
  ]
}